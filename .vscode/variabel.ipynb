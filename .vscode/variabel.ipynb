{
 "metadata": {
  "language_info": {
   "codemirror_mode": {
    "name": "ipython",
    "version": 3
   },
   "file_extension": ".py",
   "mimetype": "text/x-python",
   "name": "python",
   "nbconvert_exporter": "python",
   "pygments_lexer": "ipython3",
   "version": "3.8.3-final"
  },
  "orig_nbformat": 2,
  "kernelspec": {
   "name": "python_defaultSpec_1599644946877",
   "display_name": "Python 3.8.3 64-bit ('base': conda)"
  }
 },
 "nbformat": 4,
 "nbformat_minor": 2,
 "cells": [
  {
   "cell_type": "code",
   "execution_count": 1,
   "metadata": {
    "tags": []
   },
   "outputs": [
    {
     "output_type": "stream",
     "name": "stdout",
     "text": "alla\n"
    }
   ],
   "source": [
    "print(\"alla\")"
   ]
  },
  {
   "cell_type": "code",
   "execution_count": 4,
   "metadata": {
    "tags": []
   },
   "outputs": [
    {
     "output_type": "stream",
     "name": "stdout",
     "text": "din tyngdkraft är 117.84N\n"
    }
   ],
   "source": [
    "g = 9.82\n",
    "m = float( input(\"ange din vikt i kg:\"))\n",
    "F = m*g\n",
    "\n",
    "print(f\"din tyngdkraft är {F}N\")"
   ]
  },
  {
   "cell_type": "code",
   "execution_count": 6,
   "metadata": {
    "tags": []
   },
   "outputs": [
    {
     "output_type": "stream",
     "name": "stdout",
     "text": "0.47 = 47.0%\n"
    }
   ],
   "source": [
    "tal = float(input(\"ange ett decimaltal\"))\n",
    "procent = tal*100\n",
    "\n",
    "print(F\"{tal} = {procent}%\")"
   ]
  },
  {
   "cell_type": "code",
   "execution_count": 11,
   "metadata": {
    "tags": []
   },
   "outputs": [
    {
     "output_type": "stream",
     "name": "stdout",
     "text": "21.0 kelvin = -252.14999999999998 celsius\n"
    }
   ],
   "source": [
    "K = float(input(\"ange en temperatur i kelvin\"))\n",
    "C = K-273.15\n",
    "\n",
    "print (F\"{K} kelvin = {C} celsius\")"
   ]
  },
  {
   "cell_type": "code",
   "execution_count": 17,
   "metadata": {
    "tags": []
   },
   "outputs": [
    {
     "output_type": "stream",
     "name": "stdout",
     "text": "32.0 Celsius = 305.15 Kelvin\n"
    }
   ],
   "source": [
    "C = float(input(\"ange temperatur i celsius\"))\n",
    "K = C+273.15\n",
    "\n",
    "print (F\"{C} Celsius = {K} Kelvin\")"
   ]
  },
  {
   "cell_type": "code",
   "execution_count": 13,
   "metadata": {
    "tags": []
   },
   "outputs": [
    {
     "output_type": "stream",
     "name": "stdout",
     "text": "om din kostnad är 450.0 så borde du inte köpa månadskort.\n15.0 åkturer med västtrafik kostar 450.0 kronor med engångsbiljett.\n"
    }
   ],
   "source": [
    "antal = float(input(\"Hur många gånger åker du med västtrafik varje sommar\"))\n",
    "kostnad = antal*30\n",
    "\n",
    "if kostnad > 775:\n",
    "            print(F\"Om din kostnad är {kostnad} så borde du köpa ett månadskort som kostar 775 kronor. \")\n",
    "if kostnad < 775:\n",
    "        print(F\"om din kostnad är {kostnad} så borde du inte köpa månadskort.\")\n",
    "\n",
    "print(F\"{antal} åkturer med västtrafik kostar {kostnad} kronor med engångsbiljett.\")"
   ]
  },
  {
   "cell_type": "code",
   "execution_count": null,
   "metadata": {},
   "outputs": [],
   "source": []
  }
 ]
}