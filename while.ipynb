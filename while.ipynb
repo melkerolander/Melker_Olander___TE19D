{
 "metadata": {
  "language_info": {
   "codemirror_mode": {
    "name": "ipython",
    "version": 3
   },
   "file_extension": ".py",
   "mimetype": "text/x-python",
   "name": "python",
   "nbconvert_exporter": "python",
   "pygments_lexer": "ipython3",
   "version": "3.8.3-final"
  },
  "orig_nbformat": 2,
  "kernelspec": {
   "name": "python_defaultSpec_1602063034035",
   "display_name": "Python 3.8.3 64-bit ('base': conda)"
  }
 },
 "nbformat": 4,
 "nbformat_minor": 2,
 "cells": [
  {
   "cell_type": "code",
   "execution_count": 2,
   "metadata": {
    "tags": []
   },
   "outputs": [
    {
     "output_type": "stream",
     "name": "stdout",
     "text": "antal år 35\n"
    }
   ],
   "source": [
    "insättning = 1000\n",
    "förändringsfaktor = 1.02\n",
    "år = 0\n",
    "\n",
    "while insättning < 50000:\n",
    "    insättning = insättning*förändringsfaktor + 1000\n",
    "    år += 1 #år ökar med ett\n",
    "\n",
    "print(f\"antal år {år}\")"
   ]
  },
  {
   "cell_type": "code",
   "execution_count": 8,
   "metadata": {
    "tags": []
   },
   "outputs": [
    {
     "output_type": "stream",
     "name": "stdout",
     "text": "det tar 5 timmar\n"
    }
   ],
   "source": [
    "'''\n",
    "1L MJÖLK INNEHÅLLER 1500000 BAKTERIER I RUMSTEMP.\n",
    "BAKTERIERNA ATT ÖKA MED 50% PER TIMME\n",
    "MJÖLKEN BLIR SUR NÄR BAKTERIERNA ÖVERSTIGER 10000000\n",
    "HUR MÅNGA TIMMAR TAR DET TILLS MJÖLKEN SURNAR?\n",
    "'''\n",
    "bakterier = 1500000\n",
    "ökning = 1.5\n",
    "timmar = 0\n",
    "\n",
    "while bakterier < 10000000:\n",
    "    bakterier = bakterier*ökning\n",
    "    timmar += 1\n",
    "\n",
    "print(f\"det tar {timmar} timmar\")\n",
    "\n",
    "\n",
    "\n",
    "\n"
   ]
  },
  {
   "cell_type": "code",
   "execution_count": 10,
   "metadata": {},
   "outputs": [
    {
     "output_type": "error",
     "ename": "SyntaxError",
     "evalue": "EOL while scanning string literal (<ipython-input-10-4c2674a0e21c>, line 6)",
     "traceback": [
      "\u001b[1;36m  File \u001b[1;32m\"<ipython-input-10-4c2674a0e21c>\"\u001b[1;36m, line \u001b[1;32m6\u001b[0m\n\u001b[1;33m    print(f\"rerere {s})\u001b[0m\n\u001b[1;37m                       ^\u001b[0m\n\u001b[1;31mSyntaxError\u001b[0m\u001b[1;31m:\u001b[0m EOL while scanning string literal\n"
     ]
    }
   ],
   "source": [
    "summa, n = 0, 0\n",
    "\n",
    "while n <= 100:\n",
    "    summa += n\n",
    "    n += 1\n",
    "\n"
   ]
  },
  {
   "cell_type": "code",
   "execution_count": null,
   "metadata": {},
   "outputs": [],
   "source": []
  }
 ]
}