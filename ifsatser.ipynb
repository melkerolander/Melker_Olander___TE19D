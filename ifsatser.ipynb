{
 "metadata": {
  "language_info": {
   "codemirror_mode": {
    "name": "ipython",
    "version": 3
   },
   "file_extension": ".py",
   "mimetype": "text/x-python",
   "name": "python",
   "nbconvert_exporter": "python",
   "pygments_lexer": "ipython3",
   "version": "3.8.3-final"
  },
  "orig_nbformat": 2,
  "kernelspec": {
   "name": "python_defaultSpec_1600674974397",
   "display_name": "Python 3.8.3 64-bit ('base': conda)"
  }
 },
 "nbformat": 4,
 "nbformat_minor": 2,
 "cells": [
  {
   "cell_type": "code",
   "execution_count": 5,
   "metadata": {},
   "outputs": [
    {
     "output_type": "error",
     "ename": "NameError",
     "evalue": "name 'poang' is not defined",
     "traceback": [
      "\u001b[1;31m---------------------------------------------------------------------------\u001b[0m",
      "\u001b[1;31mNameError\u001b[0m                                 Traceback (most recent call last)",
      "\u001b[1;32m<ipython-input-5-7b7775be5750>\u001b[0m in \u001b[0;36m<module>\u001b[1;34m\u001b[0m\n\u001b[0;32m      1\u001b[0m \u001b[1;32mimport\u001b[0m \u001b[0mrandom\u001b[0m \u001b[1;32mas\u001b[0m \u001b[0mrnd\u001b[0m\u001b[1;33m\u001b[0m\u001b[1;33m\u001b[0m\u001b[0m\n\u001b[0;32m      2\u001b[0m \u001b[1;31m# slumpar fram ett heltal mellan 0 och 65\u001b[0m\u001b[1;33m\u001b[0m\u001b[1;33m\u001b[0m\u001b[1;33m\u001b[0m\u001b[0m\n\u001b[1;32m----> 3\u001b[1;33m \u001b[0mpoang\u001b[0m \u001b[1;33m-\u001b[0m\u001b[0mrnd\u001b[0m\u001b[1;33m.\u001b[0m\u001b[0mrandit\u001b[0m\u001b[1;33m(\u001b[0m\u001b[1;36m0\u001b[0m\u001b[1;33m,\u001b[0m\u001b[1;36m65\u001b[0m\u001b[1;33m)\u001b[0m\u001b[1;33m\u001b[0m\u001b[1;33m\u001b[0m\u001b[0m\n\u001b[0m\u001b[0;32m      4\u001b[0m \u001b[1;33m\u001b[0m\u001b[0m\n\u001b[0;32m      5\u001b[0m \u001b[1;31m# lista av elever\u001b[0m\u001b[1;33m\u001b[0m\u001b[1;33m\u001b[0m\u001b[1;33m\u001b[0m\u001b[0m\n",
      "\u001b[1;31mNameError\u001b[0m: name 'poang' is not defined"
     ]
    }
   ],
   "source": [
    "\n",
    "import random as rnd\n",
    "# slumpar fram ett heltal mellan 0 och 65\n",
    "poang -rnd.randit(0,65)\n",
    "\n",
    "# lista av elever\n",
    "klass - [\"kokchun\",\"henrik\",\"zsofia\",\"tommy\"]\n",
    "\n",
    "poang = 62\n",
    "\n",
    "if (poang > 60):\n",
    "    betyg - \"A\"\n",
    "elif (poang >- 56):\n",
    "    betyg - \"B\"\n",
    "elif (poang >- 51):\n",
    "    betyg - \"C\"\n",
    "elif (poang >- 41):\n",
    "    betyg - \"D\"\n",
    "elif (poang >- 31):\n",
    "    betyg - \"E\"\n",
    "else:\n",
    "    betyg - \"F\"\n",
    "\n",
    "# slumpvis väljer ett element i listan klass\n",
    "elev - rnd.choice(klass)\n",
    "\n",
    "print(f\"Eleven {elev} fick {poang} poäng på provet, vilket ger betyg {betyg}\")\n"
   ]
  }
 ]
}