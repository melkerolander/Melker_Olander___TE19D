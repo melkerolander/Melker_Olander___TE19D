{
 "metadata": {
  "language_info": {
   "codemirror_mode": {
    "name": "ipython",
    "version": 3
   },
   "file_extension": ".py",
   "mimetype": "text/x-python",
   "name": "python",
   "nbconvert_exporter": "python",
   "pygments_lexer": "ipython3",
   "version": "3.8.3-final"
  },
  "orig_nbformat": 2,
  "kernelspec": {
   "name": "Python 3.8.3 64-bit (conda)",
   "display_name": "Python 3.8.3 64-bit (conda)",
   "metadata": {
    "interpreter": {
     "hash": "9b6a835d814ba9b99ea3e82b3031d2788f28eb3ab312ccf0e798d69aaa097422"
    }
   }
  }
 },
 "nbformat": 4,
 "nbformat_minor": 2,
 "cells": [
  {
   "cell_type": "code",
   "execution_count": 23,
   "metadata": {},
   "outputs": [
    {
     "output_type": "stream",
     "name": "stdout",
     "text": [
      "avståndet mellan origo och punkten är 0.7071067811865476\n"
     ]
    }
   ],
   "source": [
    "#uppgift A\n",
    "import math\n",
    "\n",
    "x = 0.5\n",
    "y = 0.5\n",
    "\n",
    "hypotenusan = math.sqrt(x**2+y**2)\n",
    "\n",
    "print(f\"avståndet mellan origo och punkten är {hypotenusan}\")\n",
    "\n",
    "\n"
   ]
  },
  {
   "cell_type": "code",
   "execution_count": 4,
   "metadata": {},
   "outputs": [
    {
     "output_type": "stream",
     "name": "stdout",
     "text": [
      "avståndet mellan origo och punkten är 1.4142135623730951\n"
     ]
    }
   ],
   "source": [
    "import math\n",
    "\n",
    "x = 1\n",
    "y = 1\n",
    "\n",
    "hypotenusan = math.sqrt(x**2+y**2)\n",
    "\n",
    "print(f\"avståndet mellan origo och punkten är {hypotenusan}\")"
   ]
  },
  {
   "cell_type": "code",
   "execution_count": 5,
   "metadata": {},
   "outputs": [
    {
     "output_type": "stream",
     "name": "stdout",
     "text": [
      "avståndet mellan origo och punkten är 0.7071067811865476\n"
     ]
    }
   ],
   "source": [
    "import math\n",
    "\n",
    "x = 0.5\n",
    "y = -0.5\n",
    "\n",
    "hypotenusan = math.sqrt(x**2+y**2)\n",
    "\n",
    "print(f\"avståndet mellan origo och punkten är {hypotenusan}\")\n"
   ]
  },
  {
   "cell_type": "code",
   "execution_count": 12,
   "metadata": {},
   "outputs": [
    {
     "output_type": "stream",
     "name": "stdout",
     "text": [
      "0.6344492369405601 0.7682580766051832 0.6373891686912285 0.8604152662833975\n"
     ]
    }
   ],
   "source": [
    "\n",
    "import math \n",
    "import random\n",
    "\n",
    "x1 = random.uniform(1,-1)\n",
    "x2 = random.uniform(1,-1)\n",
    "x3 = random.uniform(1,-1)\n",
    "x4 = random.uniform(1,-1)\n",
    "\n",
    "print(x1, x2, x3, x4)\n"
   ]
  },
  {
   "cell_type": "code",
   "execution_count": null,
   "metadata": {},
   "outputs": [],
   "source": [
    "import math \n",
    "antal = 0\n",
    "\n",
    "for i in range ():\n",
    "    \n",
    "\n",
    "\n",
    "\n",
    "\n",
    "\n",
    "\n"
   ]
  },
  {
   "cell_type": "code",
   "execution_count": 32,
   "metadata": {},
   "outputs": [
    {
     "output_type": "stream",
     "name": "stdout",
     "text": [
      "1 2 3 4 burr 6 7 8 9 burr 11 12 13 14 burr 16 17 18 19 burr 21 22 23 24 burr 26 27 28 29 burr 31 32 33 34 burr 36 37 38 39 burr 41 42 43 44 burr 46 47 48 49 burr 51 52 53 54 burr 56 57 58 59 burr 61 62 63 64 burr 66 67 68 69 burr 71 72 73 74 burr 76 77 78 79 burr 81 82 83 84 burr 86 87 88 89 burr 91 92 93 94 burr 96 97 98 99 burr "
     ]
    }
   ],
   "source": [
    "#burr\n",
    "\n",
    "\n",
    "for i in range (1,101):\n",
    "    if i % 5 == 0:\n",
    "        print(\"burr\", end=\" \")\n",
    "    else: print(i, end=\" \")\n",
    "\n",
    "    \n",
    "    \n",
    "\n",
    "\n",
    "\n",
    "\n",
    "\n",
    "\n",
    "\n"
   ]
  },
  {
   "cell_type": "code",
   "execution_count": 2,
   "metadata": {},
   "outputs": [
    {
     "output_type": "stream",
     "name": "stdout",
     "text": [
      "1 burr birr 3 burr birr 5 burr birr 7 burr birr 9 burr birr 11 burr birr 13 burr birr 15 burr birr 17 burr birr 19 burr birr 21 burr birr 23 burr birr 25 burr birr 27 burr birr 29 burr birr 31 burr birr 33 burr birr 35 burr birr 37 burr birr 39 burr birr 41 burr birr 43 burr birr 45 burr birr 47 burr birr 49 burr birr 51 burr birr 53 burr birr 55 burr birr 57 burr birr 59 burr birr 61 burr birr 63 burr birr 65 burr birr 67 burr birr 69 burr birr 71 burr birr 73 burr birr 75 burr birr 77 burr birr 79 burr birr 81 burr birr 83 burr birr 85 burr birr 87 burr birr 89 burr birr 91 burr birr 93 burr birr 95 burr birr 97 burr birr 99 burr birr "
     ]
    }
   ],
   "source": [
    "x = int(input(\"välj tal\"))\n",
    "y = int(input(\"välj vilket tal\"))\n",
    "for i in range (1,101):\n",
    "    if i % x == 0:\n",
    "        print(\"burr\", end=\" \")\n",
    "    if i % y == 0:\n",
    "        print(\"birr\", end=\" \")\n",
    "    else: print(i, end=\" \")"
   ]
  },
  {
   "cell_type": "code",
   "execution_count": 22,
   "metadata": {},
   "outputs": [
    {
     "output_type": "stream",
     "name": "stdout",
     "text": [
      "1\n2\n3\n4\nburr\n6\n7\nbirr\n9\nburr\n11\n12\n13\n14\nburr\nbirr\n17\n18\n19\nburr\n21\n22\n23\nbirr\nburr\n26\n27\n28\n29\nburr\n31\nbirr\n33\n34\nburr\n36\n37\n38\n39\n"
     ]
    }
   ],
   "source": [
    "burr = int(input(\"i vilken tabell vill du att det ska stå burr?\"))\n",
    "birr = int(input(\"i vilken tabell vill du att det ska stå birr?\"))\n",
    "f = int(input(\"vart vill du att tabellen ska starta?\"))\n",
    "e = int(input(\"vart vill du att tabellen ska sluta?\"))\n",
    "for i in range (f,e):\n",
    "    if i % burr == 0 and i % birr == 0:\n",
    "        print(\"burrbirr\")\n",
    "    elif i % burr == 0:\n",
    "        print(\"burr\")\n",
    "    elif i % birr == 0:\n",
    "        print(\"birr\")\n",
    "    else: print(i)"
   ]
  },
  {
   "cell_type": "code",
   "execution_count": null,
   "metadata": {},
   "outputs": [],
   "source": []
  }
 ]
}